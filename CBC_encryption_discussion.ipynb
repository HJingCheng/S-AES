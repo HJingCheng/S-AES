{
 "cells": [
  {
   "cell_type": "code",
   "execution_count": 1,
   "metadata": {
    "collapsed": true,
    "ExecuteTime": {
     "end_time": "2023-10-29T06:24:26.267288400Z",
     "start_time": "2023-10-29T06:24:26.234776200Z"
    }
   },
   "outputs": [
    {
     "name": "stdout",
     "output_type": "stream",
     "text": [
      "Original ciphertext: 0xf2cf10e25b8dfd0a\n",
      "\n",
      "Tampering 4 bits...\n",
      "Tampered ciphertext: 0x2cf10e25b8dfd0a\n",
      "Decrypted tampered ciphertext: 0x6abe6abcdef01234\n",
      "\n",
      "Tampering 8 bits...\n",
      "Tampered ciphertext: 0xdcf10e25b8dfd0a\n",
      "Decrypted tampered ciphertext: 0x675e65bcdef01234\n",
      "\n",
      "Tampering 12 bits...\n",
      "Tampered ciphertext: 0xd3f10e25b8dfd0a\n",
      "Decrypted tampered ciphertext: 0x6d7e654cdef01234\n",
      "\n",
      "Tampering 16 bits...\n",
      "Tampered ciphertext: 0xd3010e25b8dfd0a\n",
      "Decrypted tampered ciphertext: 0x4d716543def01234\n",
      "\n",
      "Tampering 32 bits...\n",
      "Tampered ciphertext: 0xd30ef1d5b8dfd0a\n",
      "Decrypted tampered ciphertext: 0x4d719659210f1234\n"
     ]
    }
   ],
   "source": [
    "from SAES import SAES\n",
    "\n",
    "saes = SAES()\n",
    "def apply_tampering(ciphertext, bits_to_flip, total_bits=64):\n",
    "    \"\"\"这个函数将从第一个块的开始位置翻转指定数量的比特。\"\"\"\n",
    "    mask = 0\n",
    "    for i in range(bits_to_flip):\n",
    "        mask <<= 1\n",
    "        mask |= 1\n",
    "\n",
    "    # 确保mask移动到ciphertext的前部\n",
    "    mask <<= total_bits - bits_to_flip\n",
    "    return ciphertext ^ mask\n",
    "\n",
    "\n",
    "def test_cbc_tampering(saes, plaintext, key, iv):\n",
    "    # 加密原始明文\n",
    "    original_ciphertext = saes.CBC_encrypt(plaintext, key, iv)\n",
    "    print(\"Original ciphertext:\", hex(original_ciphertext))\n",
    "\n",
    "    total_bits = len(bin(original_ciphertext)) - 2  # 计算密文总比特数\n",
    "\n",
    "    # 定义篡改列表\n",
    "    tamperings = [4, 8, 12, 16, 32]  # 32比特意味着两个块\n",
    "\n",
    "    for tampering_bits in tamperings:\n",
    "        print(f\"\\nTampering {tampering_bits} bits...\")\n",
    "        tampered_ciphertext = apply_tampering(original_ciphertext, tampering_bits)\n",
    "        print(\"Tampered ciphertext:\", hex(tampered_ciphertext))\n",
    "\n",
    "        # 解密篡改后的密文\n",
    "        decrypted_tampered = saes.CBC_decrypt(tampered_ciphertext, key, iv)\n",
    "        print(\"Decrypted tampered ciphertext:\", hex(decrypted_tampered))\n",
    "\n",
    "key = 0x1234\n",
    "iv = 0x5678\n",
    "plaintext = 0x9abc9abcdef01234\n",
    "test_cbc_tampering(saes, plaintext, key, iv)"
   ]
  },
  {
   "cell_type": "markdown",
   "source": [
    "**Key Used for Encryption**: `0x1234`\n",
    "**Initialization Vector (IV)**: `0x5678`\n",
    "\n",
    "| Tampering | Original Ciphertext | Tampered Ciphertext | Decrypted Tampered Ciphertext |\n",
    "| --------- | ------------------- | ------------------- | ----------------------------- |\n",
    "| None      | 0xf2cf10e25b8dfd0a  | N/A                 | 0x9abc9abcdef01234            |\n",
    "| 4 bits    | 0xf2cf10e25b8dfd0a  | 0x02cf10e25b8dfd0a  | 0x6abe6abcdef01234            |\n",
    "| 8 bits    | 0xf2cf10e25b8dfd0a  | 0x0dcf10e25b8dfd0a  | 0x675e65bcdef01234            |\n",
    "| 12 bits   | 0xf2cf10e25b8dfd0a  | 0x0d3f10e25b8dfd0a  | 0x6d7e654cdef01234            |\n",
    "| 16 bits   | 0xf2cf10e25b8dfd0a  | 0x0d3010e25b8dfd0a  | 0x4d716543def01234            |\n",
    "| 32 bits   | 0xf2cf10e25b8dfd0a  | 0x0d30ef1d5b8dfd0a  | 0x4d719659210f1234            |\n",
    "\n",
    "分析如下：\n",
    "\n",
    "1. **错误传播特性**：从结果中，我们可以看到CBC模式的一个显著特点，即一个加密块的篡改会影响到解密的该块和下一个块。这称为错误传播特性。比如当我们篡改第一个块时，解密的第一个块和第二块都受到了影响。\n",
    "\n",
    "2. **一致性的缺失**：尽管错误传播到后续块，但篡改加密的块并不能以有意义的方式影响解密的块。换句话说，一个小小的篡改（例如4比特）可能会导致完全不同的解密输出，而不是仅仅4比特的差异。这也是为什么篡改加密消息是危险的，因为它会导致完全不可预测的输出。\n",
    "\n",
    "3. **影响的持续性**：当我们篡改32位时，尽管第一个块和第二块都受到了影响，但从第三块开始，解密的输出与原始明文相同。这证明了CBC模式中错误传播的“有限”特性，即一个错误只会影响其本身和下一个块。\n",
    "\n",
    "4. **安全性与篡改检测**：CBC模式本身并不提供明文的完整性或篡改检测。从结果中，我们可以看到，即使对加密文本进行了小小的篡改，也可能不容易被接收者察觉，除非他们期望的解密输出与实际的解密输出存在显著差异。\n",
    "\n",
    "5. **篡改与噪声**：篡改在真实世界中可能被视为噪声或数据损坏。CBC模式对于随机噪声具有某种“弹性”，因为噪声只影响两个块，而不是整个消息。\n",
    "\n",
    "总之，CBC模式提供了一种方式，使篡改的加密消息在解密时产生不可预测的输出，并且篡改会传播到后续的块，但其影响是有限的。为了提高安全性，应该考虑使用其他机制来确保数据的完整性和篡改检测。\n",
    "\n"
   ],
   "metadata": {
    "collapsed": false
   }
  },
  {
   "cell_type": "code",
   "execution_count": null,
   "outputs": [],
   "source": [],
   "metadata": {
    "collapsed": false
   }
  }
 ],
 "metadata": {
  "kernelspec": {
   "display_name": "Python 3",
   "language": "python",
   "name": "python3"
  },
  "language_info": {
   "codemirror_mode": {
    "name": "ipython",
    "version": 2
   },
   "file_extension": ".py",
   "mimetype": "text/x-python",
   "name": "python",
   "nbconvert_exporter": "python",
   "pygments_lexer": "ipython2",
   "version": "2.7.6"
  }
 },
 "nbformat": 4,
 "nbformat_minor": 0
}
